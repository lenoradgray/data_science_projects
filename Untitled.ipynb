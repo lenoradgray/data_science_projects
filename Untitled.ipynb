{
 "cells": [
  {
   "cell_type": "markdown",
   "id": "c5f0cdc4-efbe-4bf4-ab19-3f4700c231f2",
   "metadata": {},
   "source": [
    "## Lenora Gray"
   ]
  },
  {
   "cell_type": "code",
   "execution_count": null,
   "id": "e2570dd7-d768-404a-a5eb-2b2969fee7d2",
   "metadata": {},
   "outputs": [],
   "source": []
  }
 ],
 "metadata": {
  "kernelspec": {
   "display_name": "Python 3 (ipykernel)",
   "language": "python",
   "name": "python3"
  },
  "language_info": {
   "codemirror_mode": {
    "name": "ipython",
    "version": 3
   },
   "file_extension": ".py",
   "mimetype": "text/x-python",
   "name": "python",
   "nbconvert_exporter": "python",
   "pygments_lexer": "ipython3",
   "version": "3.10.7"
  }
 },
 "nbformat": 4,
 "nbformat_minor": 5
}
