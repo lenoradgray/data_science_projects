{
 "cells": [
  {
   "cell_type": "markdown",
   "id": "c5f0cdc4-efbe-4bf4-ab19-3f4700c231f2",
   "metadata": {},
   "source": [
    "## Lenora Gray"
   ]
  },
  {
   "cell_type": "markdown",
   "id": "5e2b2ea2-8966-41f2-a341-99ec5a55823e",
   "metadata": {},
   "source": [
    "The time complexity of the prefix_to_postfix function is O(n), where n is the length of the input string. This is because the function iterates over each character in the string once, and each iteration takes constant time. Within each iteration, the function performs a constant number of stack operations and string concatenations, which also take constant time.\n",
    "\n",
    "The space complexity of the function is O(n), where n is the length of the input string. This is because the function uses a stack data structure to keep track of the operands and operators in the input string. The maximum size of the stack is proportional to the number of operands and operators in the input string, which is at most n/2 (since there are n/2 operators in a valid prefix expression with n operands). Therefore, the space used by the stack is O(n). Additionally,kkthe function uses a few constant-sized variables to store the operators and the final postfix expression, so their space complexity is O(1)."
   ]
  },
  {
   "cell_type": "code",
   "execution_count": 2,
   "id": "b69952a2-782b-4a97-a3f1-c3e317dfeb66",
   "metadata": {
    "tags": []
   },
   "outputs": [
    {
     "name": "stdout",
     "output_type": "stream",
     "text": [
      "       col1      col2      col3      col4      col5\n",
      "0  0.746929  0.225748  0.108842  0.659457  0.712078\n",
      "1  0.589046  0.837566  0.748040  0.342442  0.341134\n",
      "2  0.683625  0.329502  0.804387  0.920082  0.102186\n",
      "3  0.148828  0.024512  0.653335  0.274956  0.577968\n",
      "4  0.841020  0.639323  0.340797  0.985218  0.881786\n",
      "5  0.975506  0.499488  0.488867  0.298496  0.195307\n",
      "6  0.987998  0.678470  0.372206  0.319634  0.313063\n",
      "7  0.268889  0.188777  0.695865  0.407429  0.660803\n",
      "8  0.445851  0.535372  0.733581  0.861492  0.562541\n",
      "9  0.388134  0.662124  0.915827  0.630765  0.139066\n"
     ]
    }
   ],
   "source": [
    "import pandas as pd\n",
    "import numpy as np\n",
    "\n",
    "# Define the dimensions of the dataframe\n",
    "num_rows = 10\n",
    "num_cols = 5\n",
    "\n",
    "# Create a 2D array of random floats\n",
    "data = np.random.rand(num_rows, num_cols)\n",
    "\n",
    "# Create the dataframe using the array and specify column names\n",
    "df = pd.DataFrame(data, columns=['col1', 'col2', 'col3', 'col4', 'col5'])\n",
    "\n",
    "# Print the dataframe\n",
    "print(df)\n"
   ]
  },
  {
   "cell_type": "code",
   "execution_count": null,
   "id": "6a2663fa-75a5-4be1-b7bd-e2381e777690",
   "metadata": {},
   "outputs": [],
   "source": []
  }
 ],
 "metadata": {
  "kernelspec": {
   "display_name": "Python 3 (ipykernel)",
   "language": "python",
   "name": "python3"
  },
  "language_info": {
   "codemirror_mode": {
    "name": "ipython",
    "version": 3
   },
   "file_extension": ".py",
   "mimetype": "text/x-python",
   "name": "python",
   "nbconvert_exporter": "python",
   "pygments_lexer": "ipython3",
   "version": "3.10.7"
  }
 },
 "nbformat": 4,
 "nbformat_minor": 5
}
